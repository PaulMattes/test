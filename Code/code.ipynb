{
 "nbformat": 4,
 "nbformat_minor": 2,
 "metadata": {
  "language_info": {
   "name": "python",
   "codemirror_mode": {
    "name": "ipython",
    "version": 3
   },
   "version": "3.7.1-final"
  },
  "orig_nbformat": 2,
  "file_extension": ".py",
  "mimetype": "text/x-python",
  "name": "python",
  "npconvert_exporter": "python",
  "pygments_lexer": "ipython3",
  "version": 3,
  "kernelspec": {
   "name": "python37164bitadedbe882a1449e69077519bedebf52d",
   "display_name": "Python 3.7.1 64-bit"
  }
 },
 "cells": [
  {
   "cell_type": "code",
   "execution_count": 5,
   "metadata": {},
   "outputs": [
    {
     "output_type": "stream",
     "name": "stdout",
     "text": "bildName   x1   y1    x2    y2  \\\n0    20041a4c-8a3a-431d-b64b-d40747effedf.jpg   51  480   950   545   \n1    227af5fe-fc47-4dfe-b4d7-f22691db58c3.jpg  361  459   346   427   \n2    31518265-d834-4da3-8c98-1ed0cee5a176.jpg  375  487   456   706   \n3    33d1895f-f150-4f80-a45d-c9a86729d033.jpg  524  594   480   504   \n4    33d1895f-f150-4f80-a45d-c9a86729d033.jpg  154  306   475   533   \n..                                        ...  ...  ...   ...   ...   \n251  ab3feafb-508a-4bf3-b0ad-2590beedef68.jpg  113  440  1026  1145   \n252  b341c175-5525-43f5-b248-9e0f3f8c3d77.jpg  300   30  1098  1190   \n253  b963830f-acbc-471a-89fb-cf31bdf8e94e.jpg   45  531  1031  1155   \n254  bd4fce76-d5f3-4dc3-ad95-cd7cd2885c13.jpg  149  241  1022   879   \n255  e5cd6297-d40a-41f4-bc47-d8232edb379e.jpg  185  359   772   997   \n\n                               name  \n0                            banana  \n1                        boiled egg  \n2                            banana  \n3              roasted turkey steak  \n4    Gefüllter Paprika mit Couscous  \n..                              ...  \n251                     rice cooked  \n252                       chocolate  \n253                          banana  \n254                       hamburger  \n255                           apple  \n\n[256 rows x 6 columns]\n"
    }
   ],
   "source": [
    "from pathlib import Path\n",
    "import numpy as np\n",
    "import pandas as pd\n",
    "\n",
    "from jupyter_innotater import *\n",
    "\n",
    "detection_path = './detection'\n",
    "\n",
    "# Where we store a CSV of all images including their class\n",
    "FOODS_ORIGINALFILEPATH = Path(\"./csvFile/annotation.csv\")\n",
    "\n",
    "NEW_FOOD_ANNOTATION = Path(\"./csvFile/annotation.csv\")\n",
    "\n",
    "df = pd.read_csv(NEW_FOOD_ANNOTATION if NEW_FOOD_ANNOTATION.is_file() else FOODS_ORIGINALFILEPATH, error_bad_lines=False) #Überspringen von Zeilen mit mehr als 6 Kommas"
   ]
  },
  {
   "cell_type": "code",
   "execution_count": 13,
   "metadata": {},
   "outputs": [
    {
     "output_type": "stream",
     "name": "stdout",
     "text": "[  0   1   2   3   4   5   6   7   8   9  10  11  12  13  14  15  16  17\n  18  19  20  21  22  23  24  25  26  27  28  29  30  31  32  33  34  35\n  36  37  38  39  40  41  42  43  44  45  46  47  48  49  50  51  52  53\n  54  55  56  57  58  59  60  61  62  63  64  65  66  67  68  69  70  71\n  72  73  74  75  76  77  78  79  80  81  82  83  84  85  86  87  88  89\n  90  91  92  93  94  95  96  97  98  99 100 101 102 103 104 105 106 107\n 108 109 110 111 112 113 114 115 116 117 118 119 120 121 122 123 124 125\n 126 127 128 129 130 131 132 133 134 135 136 137 138 139 140 141 142 143\n 144 145 146 147 148 149 150 151 152 153 154 155 156 157 158 159 160 161\n 162 163 164 165 166 167 168 169 170 171 172 173 174 175 176 177 178 179\n 180 181 182 183 184 185 186 187 188 189 190 191 192 193 194 195 196 197\n 198 199 200 201 202 203 204 205 206 207 208 209 210 211 212 213 214 215\n 216 217 218 219 220 221 222 223 224 225 226 227 228 229 230 231 232 233\n 234 235 236 237 238 239 240 241 242 243 244 245 246 247 248 249 250 251\n 252 253 254 255]\n"
    }
   ],
   "source": [
    "cats = sorted(df['name'].drop_duplicates().values.tolist());\n",
    "\n",
    "classes = np.array([cats.index(c) for c in df['name']])\n",
    "bboxes = df[['x1', 'y1', 'x2', 'y2']].values\n",
    "\n",
    "indexes = np.arange(256)"
   ]
  },
  {
   "cell_type": "code",
   "execution_count": 8,
   "metadata": {},
   "outputs": [
    {
     "output_type": "display_data",
     "data": {
      "text/plain": "Innotater(children=(HBox(children=(VBox(children=(ImagePad(value=b'\\xff\\xd8\\xff\\xe0\\x00\\x10JFIF\\x00\\x01\\x01\\x0…",
      "application/vnd.jupyter.widget-view+json": {
       "version_major": 2,
       "version_minor": 0,
       "model_id": "cdfb2fc503664bc38d10897f0e9d373f"
      }
     },
     "metadata": {}
    }
   ],
   "source": [
    "winnotater = Innotater( \n",
    "    ImageInnotation(df['bildName'], path=detection_path, height=300, width=400),\n",
    "    [BoundingBoxInnotation(bboxes), # Assumes the boxes relate to the only available image input\n",
    "     MultiClassInnotation(classes, classes=cats, dropdown=True)\n",
    "    ],\n",
    "    indexes=indexes # Our mapping to ensure we see alternating classes of butterfly\n",
    ")\n",
    "winnotater.index = 0 \n",
    "display(winnotater)"
   ]
  },
  {
   "cell_type": "code",
   "execution_count": null,
   "metadata": {},
   "outputs": [],
   "source": [
    "df[['x1','y1','x2','y2']] = bboxes\n",
    "df['name'] = [cats[i] for i in classes]\n",
    "\n",
    "# And save the full Pandas data back to a CSV file\n",
    "df.to_csv(NEW_FOOD_ANNOTATION, index=False)"
   ]
  }
 ]
}
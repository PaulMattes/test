{
 "cells": [
  {
   "cell_type": "code",
   "execution_count": null,
   "metadata": {},
   "outputs": [],
   "source": [
    "from jupyter_innotater import *\n",
    "import numpy as np, os"
   ]
  },
  {
   "cell_type": "markdown",
   "metadata": {},
   "source": [
    "## Save button calls your supplied Python function"
   ]
  },
  {
   "cell_type": "code",
   "execution_count": null,
   "metadata": {},
   "outputs": [],
   "source": [
    "foodfns = sorted(os.listdir('./foods/'))\n",
    "targets = np.zeros((len(foodfns), 4), dtype='int') # (x,y,w,h) for each data row\n",
    "\n",
    "def my_save_hook(uindexes):\n",
    "    np.savetxt(\"foodboxes.csv\", targets, delimiter=\",\", fmt=\"%d\")\n",
    "    return True # Tell Innotater the save was successful (we just assume so here...)"
   ]
  },
  {
   "cell_type": "code",
   "execution_count": null,
   "metadata": {},
   "outputs": [],
   "source": [
    "Innotater( ImageInnotation(foodfns, path='./foods'), BoundingBoxInnotation(targets), save_hook=my_save_hook )"
   ]
  },
  {
   "cell_type": "markdown",
   "metadata": {},
   "source": [
    "Click the Save button above after making changes, and a csv file will be saved containing your latest data.\n",
    "\n",
    "Your function should return True if the save was successful, otherwise False if the data should still be saved.\n",
    "\n",
    "The uindexes parameter is a list of integers telling you which indexes have been changed through the Innotater."
   ]
  },
  {
   "cell_type": "markdown",
   "metadata": {},
   "source": [
    "## Custom Buttons calling your own Python function\n",
    "\n",
    "The ButtonInnotation allows you to provide custom button functionality.\n",
    "\n",
    "In this example, there is a button to reset everything in the current sample, and buttons to reset each bounding box."
   ]
  },
  {
   "cell_type": "code",
   "execution_count": null,
   "metadata": {},
   "outputs": [],
   "source": [
    "animalfns = sorted(os.listdir('./animals/'))\n",
    "\n",
    "repeats = 8\n",
    "\n",
    "# Per-photo data\n",
    "classes = ['cat', 'dog']\n",
    "targets_type = np.zeros((len(animalfns), len(classes)), dtype='int') # One-hot encoding\n",
    "\n",
    "# Repeats within each photo\n",
    "targets_bboxes = np.zeros((len(animalfns), repeats, 4), dtype='int') # (x,y,w,h) for each animal\n",
    "\n",
    "def reset_click(uindex, repeat_index, **kwargs):\n",
    "    # uindex is the (underlying) index of the data sample where the button was clicked\n",
    "    # repeat_index will be the sub-index of the row in a RepeatInnotation, or -1 if at the top level\n",
    "    # kwargs will contain name and desc fields\n",
    "\n",
    "    if repeat_index == -1: # This was a top-level button (no sub-index within the RepeatInnotation)\n",
    "        # So reset everything\n",
    "        targets_type[uindex] = [1,0]\n",
    "        for i in range(repeats):\n",
    "            targets_bboxes[uindex, i, :] = 0\n",
    "    else:\n",
    "        # Only reset the row with repeat_index\n",
    "        targets_bboxes[uindex, repeat_index, :] = 0\n",
    "        \n",
    "    return True # Tell Innotater the data at uindex was changed\n",
    "\n",
    "Innotater(\n",
    "    ImageInnotation(animalfns, path='./animals', width=400, height=300),\n",
    "    [\n",
    "        MultiClassInnotation(targets_type, name='Animal Type', classes=classes, dropdown=False),\n",
    "\n",
    "        RepeatInnotation(\n",
    "            (ButtonInnotation, None, {'desc': 'X', 'on_click': reset_click, 'layout': {'width': '40px'}}),\n",
    "            (BoundingBoxInnotation, targets_bboxes),\n",
    "             max_repeats=repeats, min_repeats=1\n",
    "        ),\n",
    "        \n",
    "        ButtonInnotation(None, name='Reset All', on_click=reset_click)\n",
    "    ]\n",
    ")"
   ]
  },
  {
   "cell_type": "code",
   "execution_count": null,
   "metadata": {},
   "outputs": [],
   "source": []
  }
 ],
 "metadata": {
  "kernelspec": {
   "display_name": "Python 3",
   "language": "python",
   "name": "python3"
  },
  "language_info": {
   "codemirror_mode": {
    "name": "ipython",
    "version": 3
   },
   "file_extension": ".py",
   "mimetype": "text/x-python",
   "name": "python",
   "nbconvert_exporter": "python",
   "pygments_lexer": "ipython3",
   "version": "3.7.6"
  }
 },
 "nbformat": 4,
 "nbformat_minor": 4
}

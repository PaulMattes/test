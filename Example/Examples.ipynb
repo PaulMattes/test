{
 "cells": [
  {
   "cell_type": "code",
   "execution_count": null,
   "metadata": {},
   "outputs": [],
   "source": [
    "from jupyter_innotater import *\n",
    "import numpy as np, os"
   ]
  },
  {
   "cell_type": "markdown",
   "metadata": {},
   "source": [
    "### Image Filenames and Bounding Boxes"
   ]
  },
  {
   "cell_type": "code",
   "execution_count": null,
   "metadata": {},
   "outputs": [],
   "source": [
    "foodfns = sorted(os.listdir('./foods/'))\n",
    "targets = np.zeros((len(foodfns), 4), dtype='int') # (x,y,w,h) for each data row\n",
    "\n",
    "Innotater( ImageInnotation(foodfns, path='./foods'), BoundingBoxInnotation(targets) )"
   ]
  },
  {
   "cell_type": "markdown",
   "metadata": {},
   "source": [
    "Press 'n' or 'p' to move to next or previous image in the Innotater above."
   ]
  },
  {
   "cell_type": "code",
   "execution_count": null,
   "metadata": {},
   "outputs": [],
   "source": [
    "targets"
   ]
  },
  {
   "cell_type": "code",
   "execution_count": null,
   "metadata": {},
   "outputs": [],
   "source": [
    "# Write our newly-input bounding box data to disk - will be lost otherwise\n",
    "# If pandas not installed, please just ignore this cell\n",
    "import pandas as pd\n",
    "df = pd.DataFrame(targets, columns=['x','y','w','h'])\n",
    "df.insert(0,'filename', foodfns)\n",
    "df.to_csv('./bounding_boxes.csv')\n",
    "df"
   ]
  },
  {
   "cell_type": "markdown",
   "metadata": {},
   "source": [
    "### Numpy Image Data and Multi-classification"
   ]
  },
  {
   "cell_type": "code",
   "execution_count": null,
   "metadata": {},
   "outputs": [],
   "source": [
    "try:\n",
    "    import cv2\n",
    "    foods = [cv2.imread('./foods/'+f) for f in foodfns]\n",
    "\n",
    "except ModuleNotFoundError:\n",
    "    print(\"OpenCV2 is not installed, so just using filenames like before - Innotater will understand\")\n",
    "    foods = ['./foods/'+f for f in foodfns]\n",
    "\n",
    "classes = ['vegetable', 'biscuit', 'fruit']\n",
    "targets = [0] * len(foodfns)"
   ]
  },
  {
   "cell_type": "code",
   "execution_count": null,
   "metadata": {},
   "outputs": [],
   "source": [
    "w2 = Innotater(\n",
    "        ImageInnotation(foods, name='Food'), \n",
    "        MultiClassInnotation(targets, name='FoodType', classes=classes, desc='Food Type')\n",
    ")\n",
    "display(w2)"
   ]
  },
  {
   "cell_type": "code",
   "execution_count": null,
   "metadata": {},
   "outputs": [],
   "source": [
    "targets"
   ]
  },
  {
   "cell_type": "code",
   "execution_count": null,
   "metadata": {},
   "outputs": [],
   "source": [
    "# Convert targets from a 1-dim array to one-hot representation - Innotater works with that just as well\n",
    "onehot_targets = np.squeeze(np.eye(len(classes))[np.array(targets).reshape(-1)]); onehot_targets"
   ]
  },
  {
   "cell_type": "code",
   "execution_count": null,
   "metadata": {},
   "outputs": [],
   "source": [
    "Innotater(\n",
    "    ImageInnotation(foods, name='Food'), \n",
    "    MultiClassInnotation(onehot_targets, name='FoodType', classes=classes, desc='Food Type')\n",
    ")"
   ]
  },
  {
   "cell_type": "markdown",
   "metadata": {},
   "source": [
    "### Filenames and binary classification"
   ]
  },
  {
   "cell_type": "markdown",
   "metadata": {},
   "source": [
    "Set image to display at a smaller width to make it more manageable - but bounding box co-ordinates would be relative to the unzoomed image."
   ]
  },
  {
   "cell_type": "code",
   "execution_count": null,
   "metadata": {},
   "outputs": [],
   "source": [
    "isfruit_targets = (np.array(targets) == 2).astype('int')\n",
    "Innotater( ImageInnotation(foodfns, path='./foods', width=300),\n",
    "                BinaryClassInnotation(isfruit_targets, name='Is Fruit')\n",
    "              )"
   ]
  },
  {
   "cell_type": "code",
   "execution_count": null,
   "metadata": {},
   "outputs": [],
   "source": [
    "isfruit_targets"
   ]
  },
  {
   "cell_type": "markdown",
   "metadata": {},
   "source": [
    "### Image Filenames and Binary Classification plus Bounding Boxes"
   ]
  },
  {
   "cell_type": "markdown",
   "metadata": {},
   "source": [
    "Use indexes attribute to limit display just to the fruits where we want to add bounding boxes. Drop the indexes property if you also want to be able to check non-fruits."
   ]
  },
  {
   "cell_type": "code",
   "execution_count": null,
   "metadata": {},
   "outputs": [],
   "source": [
    "bboxes = np.zeros((len(foodfns),4), dtype='int')\n",
    "isfruits = np.expand_dims(isfruit_targets, axis=-1)\n",
    "\n",
    "suspected_fruits = isfruits == 1 # Or you can specify an array/list of int indices\n",
    "\n",
    "Innotater(\n",
    "        ImageInnotation(foodfns, name='Food', path='./foods'), \n",
    "        [ BinaryClassInnotation(isfruits, name='Is Fruit'),\n",
    "          BoundingBoxInnotation(bboxes, name='bbs', source='Food', desc='Food Type') ],\n",
    "    indexes = suspected_fruits\n",
    ")"
   ]
  },
  {
   "cell_type": "code",
   "execution_count": null,
   "metadata": {},
   "outputs": [],
   "source": [
    "result = np.concatenate([isfruits,bboxes], axis=-1); result"
   ]
  },
  {
   "cell_type": "markdown",
   "metadata": {},
   "source": [
    "### Image versus Image and Binary Classification"
   ]
  },
  {
   "cell_type": "code",
   "execution_count": null,
   "metadata": {},
   "outputs": [],
   "source": [
    "targets = np.array([[1,0]] * 5) # One-hot format, defaulting to 0 class\n",
    "lfoods = foods[:5]\n",
    "rfoods = lfoods.copy()\n",
    "rfoods.reverse()\n",
    "\n",
    "Innotater([ImageInnotation(lfoods, name='Food 1'), ImageInnotation(rfoods, name='Food 2')], \n",
    "        [BinaryClassInnotation(targets, name='Are Equal')])"
   ]
  },
  {
   "cell_type": "code",
   "execution_count": null,
   "metadata": {},
   "outputs": [],
   "source": [
    "targets"
   ]
  },
  {
   "cell_type": "markdown",
   "metadata": {},
   "source": [
    "### Text Data - sentiment classification\n",
    "Movie reviews. In this example, numbers prefix the class names so you can keep input focus in the listbox and press 0, 1, or 2 to select the sentiment label, then press 'n' to advance to the next review (or 'p' to go back)."
   ]
  },
  {
   "cell_type": "code",
   "execution_count": null,
   "metadata": {},
   "outputs": [],
   "source": [
    "reviews = ['I really liked this movie', 'It was OK', 'Do not watch!', 'Was worth trying it']\n",
    "sentiments = [1] * len(reviews)\n",
    "sentiment_classes = ['0 - Positive', '1 - Neutral', '2 - Negative']\n",
    "\n",
    "Innotater(TextInnotation(reviews), MultiClassInnotation(sentiments, classes=sentiment_classes))"
   ]
  },
  {
   "cell_type": "code",
   "execution_count": null,
   "metadata": {},
   "outputs": [],
   "source": [
    "list(zip(reviews, [sentiment_classes[s] for s in sentiments]))"
   ]
  },
  {
   "cell_type": "code",
   "execution_count": null,
   "metadata": {},
   "outputs": [],
   "source": []
  }
 ],
 "metadata": {
  "kernelspec": {
   "display_name": "Python 3",
   "language": "python",
   "name": "python3"
  },
  "language_info": {
   "codemirror_mode": {
    "name": "ipython",
    "version": 3
   },
   "file_extension": ".py",
   "mimetype": "text/x-python",
   "name": "python",
   "nbconvert_exporter": "python",
   "pygments_lexer": "ipython3",
   "version": "3.7.3"
  }
 },
 "nbformat": 4,
 "nbformat_minor": 2
}

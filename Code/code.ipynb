{
 "nbformat": 4,
 "nbformat_minor": 2,
 "metadata": {
  "language_info": {
   "name": "python",
   "codemirror_mode": {
    "name": "ipython",
    "version": 3
   },
   "version": "3.7.1-final"
  },
  "orig_nbformat": 2,
  "file_extension": ".py",
  "mimetype": "text/x-python",
  "name": "python",
  "npconvert_exporter": "python",
  "pygments_lexer": "ipython3",
  "version": 3,
  "kernelspec": {
   "name": "python37164bitadedbe882a1449e69077519bedebf52d",
   "display_name": "Python 3.7.1 64-bit"
  }
 },
 "cells": [
  {
   "cell_type": "code",
   "execution_count": 14,
   "metadata": {},
   "outputs": [
    {
     "output_type": "stream",
     "name": "stdout",
     "text": "Requirement already satisfied: jupyter_innotater in c:\\users\\layen\\appdata\\local\\programs\\python\\python37\\lib\\site-packages (0.2.0)\nRequirement already satisfied: widgetsnbextension>=3.1.0 in c:\\users\\layen\\appdata\\local\\programs\\python\\python37\\lib\\site-packages (from jupyter_innotater) (3.5.1)\nRequirement already satisfied: numpy>=1.4.0 in c:\\users\\layen\\appdata\\local\\programs\\python\\python37\\lib\\site-packages (from jupyter_innotater) (1.15.4)\nRequirement already satisfied: ipywidgets>=7.1.0 in c:\\users\\layen\\appdata\\local\\programs\\python\\python37\\lib\\site-packages (from jupyter_innotater) (7.5.1)\nRequirement already satisfied: notebook>=5.3.0 in c:\\users\\layen\\appdata\\local\\programs\\python\\python37\\lib\\site-packages (from jupyter_innotater) (6.0.3)\nRequirement already satisfied: pypng>=0.0.19 in c:\\users\\layen\\appdata\\local\\programs\\python\\python37\\lib\\site-packages (from jupyter_innotater) (0.0.20)\nRequirement already satisfied: ipython>=4.0.0; python_version >= \"3.3\" in c:\\users\\layen\\appdata\\local\\programs\\python\\python37\\lib\\site-packages (from ipywidgets>=7.1.0->jupyter_innotater) (7.13.0)\nRequirement already satisfied: nbformat>=4.2.0 in c:\\users\\layen\\appdata\\local\\programs\\python\\python37\\lib\\site-packages (from ipywidgets>=7.1.0->jupyter_innotater) (5.0.5)\nRequirement already satisfied: ipykernel>=4.5.1 in c:\\users\\layen\\appdata\\local\\programs\\python\\python37\\lib\\site-packages (from ipywidgets>=7.1.0->jupyter_innotater) (5.2.1)\nRequirement already satisfied: traitlets>=4.3.1 in c:\\users\\layen\\appdata\\local\\programs\\python\\python37\\lib\\site-packages (from ipywidgets>=7.1.0->jupyter_innotater) (4.3.3)\nRequirement already satisfied: Send2Trash in c:\\users\\layen\\appdata\\local\\programs\\python\\python37\\lib\\site-packages (from notebook>=5.3.0->jupyter_innotater) (1.5.0)\nRequirement already satisfied: jupyter-client>=5.3.4 in c:\\users\\layen\\appdata\\local\\programs\\python\\python37\\lib\\site-packages (from notebook>=5.3.0->jupyter_innotater) (6.1.3)\nRequirement already satisfied: prometheus-client in c:\\users\\layen\\appdata\\local\\programs\\python\\python37\\lib\\site-packages (from notebook>=5.3.0->jupyter_innotater) (0.7.1)\nRequirement already satisfied: jinja2 in c:\\users\\layen\\appdata\\local\\programs\\python\\python37\\lib\\site-packages (from notebook>=5.3.0->jupyter_innotater) (2.11.2)\nRequirement already satisfied: nbconvert in c:\\users\\layen\\appdata\\local\\programs\\python\\python37\\lib\\site-packages (from notebook>=5.3.0->jupyter_innotater) (5.6.1)\nRequirement already satisfied: terminado>=0.8.1 in c:\\users\\layen\\appdata\\local\\programs\\python\\python37\\lib\\site-packages (from notebook>=5.3.0->jupyter_innotater) (0.8.3)\nRequirement already satisfied: ipython-genutils in c:\\users\\layen\\appdata\\local\\programs\\python\\python37\\lib\\site-packages (from notebook>=5.3.0->jupyter_innotater) (0.2.0)\nRequirement already satisfied: pyzmq>=17 in c:\\users\\layen\\appdata\\local\\programs\\python\\python37\\lib\\site-packages (from notebook>=5.3.0->jupyter_innotater) (19.0.0)\nRequirement already satisfied: jupyter-core>=4.6.1 in c:\\users\\layen\\appdata\\local\\programs\\python\\python37\\lib\\site-packages (from notebook>=5.3.0->jupyter_innotater) (4.6.3)\nRequirement already satisfied: tornado>=5.0 in c:\\users\\layen\\appdata\\local\\programs\\python\\python37\\lib\\site-packages (from notebook>=5.3.0->jupyter_innotater) (6.0.4)\nRequirement already satisfied: pickleshare in c:\\users\\layen\\appdata\\local\\programs\\python\\python37\\lib\\site-packages (from ipython>=4.0.0; python_version >= \"3.3\"->ipywidgets>=7.1.0->jupyter_innotater) (0.7.5)\nRequirement already satisfied: decorator in c:\\users\\layen\\appdata\\local\\programs\\python\\python37\\lib\\site-packages (from ipython>=4.0.0; python_version >= \"3.3\"->ipywidgets>=7.1.0->jupyter_innotater) (4.4.2)\nRequirement already satisfied: colorama; sys_platform == \"win32\" in c:\\users\\layen\\appdata\\roaming\\python\\python37\\site-packages (from ipython>=4.0.0; python_version >= \"3.3\"->ipywidgets>=7.1.0->jupyter_innotater) (0.4.3)\nRequirement already satisfied: jedi>=0.10 in c:\\users\\layen\\appdata\\local\\programs\\python\\python37\\lib\\site-packages (from ipython>=4.0.0; python_version >= \"3.3\"->ipywidgets>=7.1.0->jupyter_innotater) (0.17.0)\nRequirement already satisfied: setuptools>=18.5 in c:\\users\\layen\\appdata\\local\\programs\\python\\python37\\lib\\site-packages (from ipython>=4.0.0; python_version >= \"3.3\"->ipywidgets>=7.1.0->jupyter_innotater) (39.0.1)\nRequirement already satisfied: prompt-toolkit!=3.0.0,!=3.0.1,<3.1.0,>=2.0.0 in c:\\users\\layen\\appdata\\local\\programs\\python\\python37\\lib\\site-packages (from ipython>=4.0.0; python_version >= \"3.3\"->ipywidgets>=7.1.0->jupyter_innotater) (3.0.5)\nRequirement already satisfied: pygments in c:\\users\\layen\\appdata\\local\\programs\\python\\python37\\lib\\site-packages (from ipython>=4.0.0; python_version >= \"3.3\"->ipywidgets>=7.1.0->jupyter_innotater) (2.6.1)\nRequirement already satisfied: backcall in c:\\users\\layen\\appdata\\local\\programs\\python\\python37\\lib\\site-packages (from ipython>=4.0.0; python_version >= \"3.3\"->ipywidgets>=7.1.0->jupyter_innotater) (0.1.0)\nRequirement already satisfied: jsonschema!=2.5.0,>=2.4 in c:\\users\\layen\\appdata\\local\\programs\\python\\python37\\lib\\site-packages (from nbformat>=4.2.0->ipywidgets>=7.1.0->jupyter_innotater) (3.2.0)\nRequirement already satisfied: six in c:\\users\\layen\\appdata\\roaming\\python\\python37\\site-packages (from traitlets>=4.3.1->ipywidgets>=7.1.0->jupyter_innotater) (1.14.0)\nRequirement already satisfied: python-dateutil>=2.1 in c:\\users\\layen\\appdata\\local\\programs\\python\\python37\\lib\\site-packages (from jupyter-client>=5.3.4->notebook>=5.3.0->jupyter_innotater) (2.7.5)\nRequirement already satisfied: MarkupSafe>=0.23 in c:\\users\\layen\\appdata\\local\\programs\\python\\python37\\lib\\site-packages (from jinja2->notebook>=5.3.0->jupyter_innotater) (1.1.1)\nRequirement already satisfied: entrypoints>=0.2.2 in c:\\users\\layen\\appdata\\local\\programs\\python\\python37\\lib\\site-packages (from nbconvert->notebook>=5.3.0->jupyter_innotater) (0.3)\nRequirement already satisfied: mistune<2,>=0.8.1 in c:\\users\\layen\\appdata\\local\\programs\\python\\python37\\lib\\site-packages (from nbconvert->notebook>=5.3.0->jupyter_innotater) (0.8.4)\nRequirement already satisfied: bleach in c:\\users\\layen\\appdata\\local\\programs\\python\\python37\\lib\\site-packages (from nbconvert->notebook>=5.3.0->jupyter_innotater) (3.1.4)\nRequirement already satisfied: defusedxml in c:\\users\\layen\\appdata\\local\\programs\\python\\python37\\lib\\site-packages (from nbconvert->notebook>=5.3.0->jupyter_innotater) (0.6.0)\nRequirement already satisfied: pandocfilters>=1.4.1 in c:\\users\\layen\\appdata\\local\\programs\\python\\python37\\lib\\site-packages (from nbconvert->notebook>=5.3.0->jupyter_innotater) (1.4.2)\nRequirement already satisfied: testpath in c:\\users\\layen\\appdata\\local\\programs\\python\\python37\\lib\\site-packages (from nbconvert->notebook>=5.3.0->jupyter_innotater) (0.4.4)\nRequirement already satisfied: pywinpty>=0.5; os_name == \"nt\" in c:\\users\\layen\\appdata\\local\\programs\\python\\python37\\lib\\site-packages (from terminado>=0.8.1->notebook>=5.3.0->jupyter_innotater) (0.5.7)\nRequirement already satisfied: pywin32>=1.0; sys_platform == \"win32\" in c:\\users\\layen\\appdata\\local\\programs\\python\\python37\\lib\\site-packages (from jupyter-core>=4.6.1->notebook>=5.3.0->jupyter_innotater) (227)\nRequirement already satisfied: parso>=0.7.0 in c:\\users\\layen\\appdata\\local\\programs\\python\\python37\\lib\\site-packages (from jedi>=0.10->ipython>=4.0.0; python_version >= \"3.3\"->ipywidgets>=7.1.0->jupyter_innotater) (0.7.0)\nRequirement already satisfied: wcwidth in c:\\users\\layen\\appdata\\local\\programs\\python\\python37\\lib\\site-packages (from prompt-toolkit!=3.0.0,!=3.0.1,<3.1.0,>=2.0.0->ipython>=4.0.0; python_version >= \"3.3\"->ipywidgets>=7.1.0->jupyter_innotater) (0.1.9)\nRequirement already satisfied: pyrsistent>=0.14.0 in c:\\users\\layen\\appdata\\local\\programs\\python\\python37\\lib\\site-packages (from jsonschema!=2.5.0,>=2.4->nbformat>=4.2.0->ipywidgets>=7.1.0->jupyter_innotater) (0.16.0)\nRequirement already satisfied: importlib-metadata; python_version < \"3.8\" in c:\\users\\layen\\appdata\\local\\programs\\python\\python37\\lib\\site-packages (from jsonschema!=2.5.0,>=2.4->nbformat>=4.2.0->ipywidgets>=7.1.0->jupyter_innotater) (1.6.0)\nRequirement already satisfied: attrs>=17.4.0 in c:\\users\\layen\\appdata\\local\\programs\\python\\python37\\lib\\site-packages (from jsonschema!=2.5.0,>=2.4->nbformat>=4.2.0->ipywidgets>=7.1.0->jupyter_innotater) (19.3.0)\nRequirement already satisfied: webencodings in c:\\users\\layen\\appdata\\local\\programs\\python\\python37\\lib\\site-packages (from bleach->nbconvert->notebook>=5.3.0->jupyter_innotater) (0.5.1)\nRequirement already satisfied: zipp>=0.5 in c:\\users\\layen\\appdata\\local\\programs\\python\\python37\\lib\\site-packages (from importlib-metadata; python_version < \"3.8\"->jsonschema!=2.5.0,>=2.4->nbformat>=4.2.0->ipywidgets>=7.1.0->jupyter_innotater) (3.1.0)\nRequirement already up-to-date: ipykernel in c:\\users\\layen\\appdata\\local\\programs\\python\\python37\\lib\\site-packages (5.2.1)\nRequirement already satisfied, skipping upgrade: ipython>=5.0.0 in c:\\users\\layen\\appdata\\local\\programs\\python\\python37\\lib\\site-packages (from ipykernel) (7.13.0)\nRequirement already satisfied, skipping upgrade: traitlets>=4.1.0 in c:\\users\\layen\\appdata\\local\\programs\\python\\python37\\lib\\site-packages (from ipykernel) (4.3.3)\nRequirement already satisfied, skipping upgrade: tornado>=4.2 in c:\\users\\layen\\appdata\\local\\programs\\python\\python37\\lib\\site-packages (from ipykernel) (6.0.4)\nRequirement already satisfied, skipping upgrade: jupyter-client in c:\\users\\layen\\appdata\\local\\programs\\python\\python37\\lib\\site-packages (from ipykernel) (6.1.3)\nRequirement already satisfied, skipping upgrade: setuptools>=18.5 in c:\\users\\layen\\appdata\\local\\programs\\python\\python37\\lib\\site-packages (from ipython>=5.0.0->ipykernel) (39.0.1)\nRequirement already satisfied, skipping upgrade: jedi>=0.10 in c:\\users\\layen\\appdata\\local\\programs\\python\\python37\\lib\\site-packages (from ipython>=5.0.0->ipykernel) (0.17.0)\nRequirement already satisfied, skipping upgrade: pickleshare in c:\\users\\layen\\appdata\\local\\programs\\python\\python37\\lib\\site-packages (from ipython>=5.0.0->ipykernel) (0.7.5)\nRequirement already satisfied, skipping upgrade: backcall in c:\\users\\layen\\appdata\\local\\programs\\python\\python37\\lib\\site-packages (from ipython>=5.0.0->ipykernel) (0.1.0)\nRequirement already satisfied, skipping upgrade: prompt-toolkit!=3.0.0,!=3.0.1,<3.1.0,>=2.0.0 in c:\\users\\layen\\appdata\\local\\programs\\python\\python37\\lib\\site-packages (from ipython>=5.0.0->ipykernel) (3.0.5)\nRequirement already satisfied, skipping upgrade: pygments in c:\\users\\layen\\appdata\\local\\programs\\python\\python37\\lib\\site-packages (from ipython>=5.0.0->ipykernel) (2.6.1)\nRequirement already satisfied, skipping upgrade: decorator in c:\\users\\layen\\appdata\\local\\programs\\python\\python37\\lib\\site-packages (from ipython>=5.0.0->ipykernel) (4.4.2)\nRequirement already satisfied, skipping upgrade: colorama; sys_platform == \"win32\" in c:\\users\\layen\\appdata\\roaming\\python\\python37\\site-packages (from ipython>=5.0.0->ipykernel) (0.4.3)\nRequirement already satisfied, skipping upgrade: six in c:\\users\\layen\\appdata\\roaming\\python\\python37\\site-packages (from traitlets>=4.1.0->ipykernel) (1.14.0)\nRequirement already satisfied, skipping upgrade: ipython-genutils in c:\\users\\layen\\appdata\\local\\programs\\python\\python37\\lib\\site-packages (from traitlets>=4.1.0->ipykernel) (0.2.0)\nRequirement already satisfied, skipping upgrade: pyzmq>=13 in c:\\users\\layen\\appdata\\local\\programs\\python\\python37\\lib\\site-packages (from jupyter-client->ipykernel) (19.0.0)\nRequirement already satisfied, skipping upgrade: jupyter-core>=4.6.0 in c:\\users\\layen\\appdata\\local\\programs\\python\\python37\\lib\\site-packages (from jupyter-client->ipykernel) (4.6.3)\nRequirement already satisfied, skipping upgrade: python-dateutil>=2.1 in c:\\users\\layen\\appdata\\local\\programs\\python\\python37\\lib\\site-packages (from jupyter-client->ipykernel) (2.7.5)\nRequirement already satisfied, skipping upgrade: parso>=0.7.0 in c:\\users\\layen\\appdata\\local\\programs\\python\\python37\\lib\\site-packages (from jedi>=0.10->ipython>=5.0.0->ipykernel) (0.7.0)\nRequirement already satisfied, skipping upgrade: wcwidth in c:\\users\\layen\\appdata\\local\\programs\\python\\python37\\lib\\site-packages (from prompt-toolkit!=3.0.0,!=3.0.1,<3.1.0,>=2.0.0->ipython>=5.0.0->ipykernel) (0.1.9)\nRequirement already satisfied, skipping upgrade: pywin32>=1.0; sys_platform == \"win32\" in c:\\users\\layen\\appdata\\local\\programs\\python\\python37\\lib\\site-packages (from jupyter-core>=4.6.0->jupyter-client->ipykernel) (227)\n"
    }
   ],
   "source": [
    "!pip install jupyter_innotater\n",
    "!pip install -U ipykernel\n",
    "!pip install pandas"
   ]
  },
  {
   "cell_type": "code",
   "execution_count": 5,
   "metadata": {},
   "outputs": [
    {
     "output_type": "stream",
     "name": "stdout",
     "text": "bildName   x1   y1    x2    y2  \\\n0    20041a4c-8a3a-431d-b64b-d40747effedf.jpg   51  480   950   545   \n1    227af5fe-fc47-4dfe-b4d7-f22691db58c3.jpg  361  459   346   427   \n2    31518265-d834-4da3-8c98-1ed0cee5a176.jpg  375  487   456   706   \n3    33d1895f-f150-4f80-a45d-c9a86729d033.jpg  524  594   480   504   \n4    33d1895f-f150-4f80-a45d-c9a86729d033.jpg  154  306   475   533   \n..                                        ...  ...  ...   ...   ...   \n251  ab3feafb-508a-4bf3-b0ad-2590beedef68.jpg  113  440  1026  1145   \n252  b341c175-5525-43f5-b248-9e0f3f8c3d77.jpg  300   30  1098  1190   \n253  b963830f-acbc-471a-89fb-cf31bdf8e94e.jpg   45  531  1031  1155   \n254  bd4fce76-d5f3-4dc3-ad95-cd7cd2885c13.jpg  149  241  1022   879   \n255  e5cd6297-d40a-41f4-bc47-d8232edb379e.jpg  185  359   772   997   \n\n                               name  \n0                            banana  \n1                        boiled egg  \n2                            banana  \n3              roasted turkey steak  \n4    Gefüllter Paprika mit Couscous  \n..                              ...  \n251                     rice cooked  \n252                       chocolate  \n253                          banana  \n254                       hamburger  \n255                           apple  \n\n[256 rows x 6 columns]\n"
    }
   ],
   "source": [
    "from pathlib import Path\n",
    "import numpy as np\n",
    "import pandas as pd\n",
    "\n",
    "from jupyter_innotater import Innotater\n",
    "from jupyter_innotater.data import ImageInnotation, BoundingBoxInnotation, MultiClassInnotation, BinaryClassInnotation\n",
    "\n",
    "detection_path = './detection'\n",
    "\n",
    "# Where we store a CSV of all images including their class\n",
    "FOODS_ORIGINALFILEPATH = Path(\"./csvFile/annotation.csv\")\n",
    "\n",
    "NEW_FOOD_ANNOTATION = Path(\"./csvFile/annotation.csv\")\n",
    "\n",
    "df = pd.read_csv(NEW_FOOD_ANNOTATION if NEW_FOOD_ANNOTATION.is_file() else FOODS_ORIGINALFILEPATH, error_bad_lines=False) #Überspringen von Zeilen mit mehr als 6 Kommas"
   ]
  },
  {
   "cell_type": "code",
   "execution_count": 13,
   "metadata": {},
   "outputs": [
    {
     "output_type": "stream",
     "name": "stdout",
     "text": "[  0   1   2   3   4   5   6   7   8   9  10  11  12  13  14  15  16  17\n  18  19  20  21  22  23  24  25  26  27  28  29  30  31  32  33  34  35\n  36  37  38  39  40  41  42  43  44  45  46  47  48  49  50  51  52  53\n  54  55  56  57  58  59  60  61  62  63  64  65  66  67  68  69  70  71\n  72  73  74  75  76  77  78  79  80  81  82  83  84  85  86  87  88  89\n  90  91  92  93  94  95  96  97  98  99 100 101 102 103 104 105 106 107\n 108 109 110 111 112 113 114 115 116 117 118 119 120 121 122 123 124 125\n 126 127 128 129 130 131 132 133 134 135 136 137 138 139 140 141 142 143\n 144 145 146 147 148 149 150 151 152 153 154 155 156 157 158 159 160 161\n 162 163 164 165 166 167 168 169 170 171 172 173 174 175 176 177 178 179\n 180 181 182 183 184 185 186 187 188 189 190 191 192 193 194 195 196 197\n 198 199 200 201 202 203 204 205 206 207 208 209 210 211 212 213 214 215\n 216 217 218 219 220 221 222 223 224 225 226 227 228 229 230 231 232 233\n 234 235 236 237 238 239 240 241 242 243 244 245 246 247 248 249 250 251\n 252 253 254 255]\n"
    }
   ],
   "source": [
    "cats = sorted(df['name'].drop_duplicates().values.tolist());\n",
    "\n",
    "classes = np.array([cats.index(c) for c in df['name']])\n",
    "bboxes = df[['x1', 'y1', 'x2', 'y2']].values\n",
    "\n",
    "indexes = np.arange(256)"
   ]
  },
  {
   "cell_type": "code",
   "execution_count": 8,
   "metadata": {},
   "outputs": [
    {
     "output_type": "display_data",
     "data": {
      "text/plain": "Innotater(children=(HBox(children=(VBox(children=(ImagePad(value=b'\\xff\\xd8\\xff\\xe0\\x00\\x10JFIF\\x00\\x01\\x01\\x0…",
      "application/vnd.jupyter.widget-view+json": {
       "version_major": 2,
       "version_minor": 0,
       "model_id": "cdfb2fc503664bc38d10897f0e9d373f"
      }
     },
     "metadata": {}
    }
   ],
   "source": [
    "winnotater = Innotater( \n",
    "    ImageInnotation(df['bildName'], path=detection_path, height=300, width=400),\n",
    "    [BoundingBoxInnotation(bboxes), # Assumes the boxes relate to the only available image input\n",
    "     MultiClassInnotation(classes, classes=cats, dropdown=True)\n",
    "    ],\n",
    "    indexes=indexes # Our mapping to ensure we see alternating classes of butterfly\n",
    ")\n",
    "winnotater.index = 0 \n",
    "display(winnotater)"
   ]
  },
  {
   "cell_type": "code",
   "execution_count": null,
   "metadata": {},
   "outputs": [],
   "source": []
  }
 ]
}
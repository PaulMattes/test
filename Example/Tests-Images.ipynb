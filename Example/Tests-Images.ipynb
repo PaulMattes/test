{
 "cells": [
  {
   "cell_type": "code",
   "execution_count": null,
   "metadata": {},
   "outputs": [],
   "source": [
    "from jupyter_innotater import *\n",
    "import numpy as np, os"
   ]
  },
  {
   "cell_type": "markdown",
   "metadata": {},
   "source": [
    "### Image Filenames and Bounding Boxes"
   ]
  },
  {
   "cell_type": "code",
   "execution_count": null,
   "metadata": {},
   "outputs": [],
   "source": [
    "foodfns = sorted(os.listdir('./foods/'))\n",
    "targets = np.zeros((len(foodfns), 4), dtype='int') # (x,y,w,h) for each data row\n",
    "\n",
    "Innotater( ImageInnotation(foodfns, path='./foods'), BoundingBoxInnotation(targets) )"
   ]
  },
  {
   "cell_type": "markdown",
   "metadata": {},
   "source": [
    "Press 'n' or 'p' to move to next or previous image in the Innotater above."
   ]
  },
  {
   "cell_type": "code",
   "execution_count": null,
   "metadata": {},
   "outputs": [],
   "source": [
    "targets"
   ]
  },
  {
   "cell_type": "markdown",
   "metadata": {},
   "source": [
    "### Numpy Image Data and Multi-classification"
   ]
  },
  {
   "cell_type": "code",
   "execution_count": null,
   "metadata": {},
   "outputs": [],
   "source": [
    "import cv2\n",
    "classes = ['vegetable', 'biscuit', 'fruit']\n",
    "foods = [cv2.imread('./foods/'+f) for f in foodfns]\n",
    "targets = [0] * len(foodfns)\n",
    "foods[0].shape"
   ]
  },
  {
   "cell_type": "code",
   "execution_count": null,
   "metadata": {},
   "outputs": [],
   "source": [
    "w2 = Innotater(\n",
    "        ImageInnotation(foods, name='Food'), \n",
    "        MultiClassInnotation(targets, name='FoodType', classes=classes, desc='Food Type')\n",
    ")\n",
    "display(w2)"
   ]
  },
  {
   "cell_type": "code",
   "execution_count": null,
   "metadata": {},
   "outputs": [],
   "source": [
    "import matplotlib.pyplot as plt\n",
    "foodsmpl = [plt.imread('./foods/'+f) for f in foodfns]\n",
    "foodsmpl[0].shape"
   ]
  },
  {
   "cell_type": "code",
   "execution_count": null,
   "metadata": {},
   "outputs": [],
   "source": [
    "w3 = Innotater(\n",
    "        ImageInnotation(foodsmpl, name='Food', colorspace='RGB'), \n",
    "        MultiClassInnotation(targets, name='FoodType', classes=classes, desc='Food Type')\n",
    ")\n",
    "display(w3)"
   ]
  },
  {
   "cell_type": "code",
   "execution_count": null,
   "metadata": {},
   "outputs": [],
   "source": [
    "foodsbw = [f[:,:,0] for f in foods]\n",
    "w4 = Innotater(\n",
    "        ImageInnotation(foodsbw, name='Food', colorspace='RGB'), \n",
    "        MultiClassInnotation(targets, name='FoodType', classes=classes, desc='Food Type')\n",
    ")\n",
    "display(w4)"
   ]
  },
  {
   "cell_type": "code",
   "execution_count": null,
   "metadata": {},
   "outputs": [],
   "source": [
    "foodsbw2 = [np.expand_dims(f, axis=-1) for f in foodsbw]\n",
    "\n",
    "w5 = Innotater(\n",
    "        ImageInnotation(foodsbw2, name='Food'), \n",
    "        MultiClassInnotation(targets, name='FoodType', classes=classes, desc='Food Type')\n",
    ")\n",
    "display(w5)"
   ]
  },
  {
   "cell_type": "code",
   "execution_count": null,
   "metadata": {},
   "outputs": [],
   "source": []
  }
 ],
 "metadata": {
  "kernelspec": {
   "display_name": "Python 3",
   "language": "python",
   "name": "python3"
  },
  "language_info": {
   "codemirror_mode": {
    "name": "ipython",
    "version": 3
   },
   "file_extension": ".py",
   "mimetype": "text/x-python",
   "name": "python",
   "nbconvert_exporter": "python",
   "pygments_lexer": "ipython3",
   "version": "3.7.3"
  }
 },
 "nbformat": 4,
 "nbformat_minor": 2
}
